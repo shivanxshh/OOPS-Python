{
 "cells": [
  {
   "cell_type": "markdown",
   "metadata": {},
   "source": [
    "# Python(OOPS)-Basic"
   ]
  },
  {
   "cell_type": "code",
   "execution_count": 1,
   "metadata": {},
   "outputs": [],
   "source": [
    "class Phone:  ##defining class\n",
    "    def make_calls(self): ##Method of a class\n",
    "        print(\"I'm making a call\")\n",
    "        \n",
    "    def play_games(self):##Method of class\n",
    "        print(\"I'm playing games\")\n",
    "        "
   ]
  },
  {
   "cell_type": "code",
   "execution_count": 2,
   "metadata": {},
   "outputs": [],
   "source": [
    "p1=Phone()   ##Creating a object \"p1\" with the help of class \"Phone\"\n"
   ]
  },
  {
   "cell_type": "code",
   "execution_count": 3,
   "metadata": {},
   "outputs": [
    {
     "name": "stdout",
     "output_type": "stream",
     "text": [
      "I'm making a call\n"
     ]
    }
   ],
   "source": [
    "p1.make_calls() ## calling method with the help of object"
   ]
  },
  {
   "cell_type": "code",
   "execution_count": 4,
   "metadata": {},
   "outputs": [],
   "source": [
    "class Phone:##defining class\n",
    "    \n",
    "    def set_color(self,color):\n",
    "        self.color=color\n",
    "        \n",
    "    def set_cost(self,cost):\n",
    "        self.cost=cost\n",
    "        \n",
    "    def show_color(self):\n",
    "        return self.color\n",
    "    \n",
    "    def show_cost(self):\n",
    "        return self.cost\n",
    "    \n",
    "    def make_calls(self): ##Method of a class\n",
    "        print(\"I'm making a call\")\n",
    "        \n",
    "    def play_games(self):##Method of class\n",
    "        print(\"I'm playing games\")\n",
    "        "
   ]
  },
  {
   "cell_type": "code",
   "execution_count": 5,
   "metadata": {},
   "outputs": [],
   "source": [
    "p1=Phone()"
   ]
  },
  {
   "cell_type": "code",
   "execution_count": 6,
   "metadata": {},
   "outputs": [],
   "source": [
    "p1.set_color('blue')\n",
    "p1.set_cost(500)"
   ]
  },
  {
   "cell_type": "code",
   "execution_count": 7,
   "metadata": {},
   "outputs": [
    {
     "data": {
      "text/plain": [
       "'blue'"
      ]
     },
     "execution_count": 7,
     "metadata": {},
     "output_type": "execute_result"
    }
   ],
   "source": [
    "p1.show_color()"
   ]
  },
  {
   "cell_type": "code",
   "execution_count": 8,
   "metadata": {},
   "outputs": [
    {
     "data": {
      "text/plain": [
       "500"
      ]
     },
     "execution_count": 8,
     "metadata": {},
     "output_type": "execute_result"
    }
   ],
   "source": [
    "p1.show_cost()"
   ]
  },
  {
   "cell_type": "code",
   "execution_count": 9,
   "metadata": {},
   "outputs": [],
   "source": [
    "class Employee:\n",
    "    def __init__(self,name,age,salary,gender):\n",
    "        self.name=name\n",
    "        self.age=age\n",
    "        self.salary=salary\n",
    "        self.gender=gender\n",
    "        \n",
    "    def employee_details(self):\n",
    "        print('name of employee-',self.name)\n",
    "        print('age of employee-',self.age)\n",
    "        "
   ]
  },
  {
   "cell_type": "code",
   "execution_count": 10,
   "metadata": {},
   "outputs": [],
   "source": [
    "e1=Employee('Shivansh',21,80000,'Male')"
   ]
  },
  {
   "cell_type": "code",
   "execution_count": 11,
   "metadata": {},
   "outputs": [
    {
     "name": "stdout",
     "output_type": "stream",
     "text": [
      "name of employee- Shivansh\n",
      "age of employee- 21\n"
     ]
    }
   ],
   "source": [
    "e1.employee_details()"
   ]
  },
  {
   "cell_type": "markdown",
   "metadata": {},
   "source": [
    "# inheritance"
   ]
  },
  {
   "cell_type": "code",
   "execution_count": 13,
   "metadata": {},
   "outputs": [],
   "source": [
    "class Vehicle():    ##Base class or super class\n",
    "    def __init__(self,mileage,cost):         ##__init__ is a constructor to add more parameters inside a class\n",
    "        self.mileage=mileage\n",
    "        self.cost=cost\n",
    "        \n",
    "    def vehicle_details(self):\n",
    "        print('Mileage of car is ',self.mileage)\n",
    "        print('cost of car is ',self.cost)\n",
    "    "
   ]
  },
  {
   "cell_type": "code",
   "execution_count": 14,
   "metadata": {},
   "outputs": [
    {
     "name": "stdout",
     "output_type": "stream",
     "text": [
      "Mileage of car is  180\n",
      "cost of car is  50000\n"
     ]
    }
   ],
   "source": [
    "v1= Vehicle(180,50000)\n",
    "v1.vehicle_details()"
   ]
  },
  {
   "cell_type": "code",
   "execution_count": 15,
   "metadata": {},
   "outputs": [],
   "source": [
    "class Car(Vehicle):  ## car class -child class (inheriting the properties of super class that is \"Vehicle class\")\n",
    "    def show_car_details(self):\n",
    "        print('I am a car')\n",
    "    \n",
    "    "
   ]
  },
  {
   "cell_type": "code",
   "execution_count": 16,
   "metadata": {},
   "outputs": [],
   "source": [
    "c1=Car(300,561000)"
   ]
  },
  {
   "cell_type": "code",
   "execution_count": 18,
   "metadata": {},
   "outputs": [
    {
     "name": "stdout",
     "output_type": "stream",
     "text": [
      "Mileage of car is  300\n",
      "cost of car is  561000\n"
     ]
    }
   ],
   "source": [
    "c1.vehicle_details()  #things can also be inherited by base class after being a part of child class"
   ]
  },
  {
   "cell_type": "code",
   "execution_count": 19,
   "metadata": {},
   "outputs": [
    {
     "name": "stdout",
     "output_type": "stream",
     "text": [
      "I am a car\n"
     ]
    }
   ],
   "source": [
    "c1.show_car_details()"
   ]
  },
  {
   "cell_type": "code",
   "execution_count": 20,
   "metadata": {},
   "outputs": [],
   "source": [
    "class Car(Vehicle):\n",
    "    def __init__(self,mileage,cost,tyre,hp): ## to overwrite init constructor of vehicle class\n",
    "        super().__init__(mileage,cost)         ## super class\n",
    "        \n",
    "        \n",
    "        \n",
    "        self.tyre=tyre\n",
    "        self.hp=hp\n",
    "        \n",
    "    def show_car_details(self):\n",
    "        print(\"number of tyres\",self.tyre)\n",
    "        print('Horse power',self.hp)"
   ]
  },
  {
   "cell_type": "code",
   "execution_count": 21,
   "metadata": {},
   "outputs": [],
   "source": [
    "c2=Car(260,4520000,4,900)"
   ]
  },
  {
   "cell_type": "code",
   "execution_count": 22,
   "metadata": {},
   "outputs": [
    {
     "name": "stdout",
     "output_type": "stream",
     "text": [
      "number of tyres 4\n",
      "Horse power 900\n"
     ]
    }
   ],
   "source": [
    "c2.show_car_details()"
   ]
  },
  {
   "cell_type": "code",
   "execution_count": 23,
   "metadata": {},
   "outputs": [
    {
     "name": "stdout",
     "output_type": "stream",
     "text": [
      "Mileage of car is  260\n",
      "cost of car is  4520000\n"
     ]
    }
   ],
   "source": [
    "c2.vehicle_details()"
   ]
  },
  {
   "cell_type": "markdown",
   "metadata": {},
   "source": [
    "# Mulitple Inheritance"
   ]
  },
  {
   "cell_type": "code",
   "execution_count": 24,
   "metadata": {},
   "outputs": [],
   "source": [
    "class Parent1:\n",
    "    def assign_string_one(self,str1):\n",
    "        self.str1=str1\n",
    "                                                      ##parent1 class\n",
    "    def show_string_one(self):\n",
    "        return self.str1\n",
    "        "
   ]
  },
  {
   "cell_type": "code",
   "execution_count": 25,
   "metadata": {},
   "outputs": [],
   "source": [
    "class Parent2:\n",
    "    def assign_string_two(self,str2):\n",
    "        self.str2=str2\n",
    "                                                ##parent2 class\n",
    "    def show_string_two(self):\n",
    "        return self.str2\n",
    "    "
   ]
  },
  {
   "cell_type": "code",
   "execution_count": 26,
   "metadata": {},
   "outputs": [],
   "source": [
    "class Child(Parent1,Parent2):\n",
    "    def assign_string_three(self,str3):        ## Child class exhibiting the property of parent1 and parent2\n",
    "        self.str3=str3\n",
    "        \n",
    "    def show_string_three(self):\n",
    "        return self.str3"
   ]
  },
  {
   "cell_type": "code",
   "execution_count": 27,
   "metadata": {},
   "outputs": [],
   "source": [
    "mychild=Child()"
   ]
  },
  {
   "cell_type": "code",
   "execution_count": 28,
   "metadata": {},
   "outputs": [],
   "source": [
    "mychild.assign_string_one('shivansh')"
   ]
  },
  {
   "cell_type": "code",
   "execution_count": 29,
   "metadata": {},
   "outputs": [],
   "source": [
    "mychild.assign_string_two('bhardwaj')"
   ]
  },
  {
   "cell_type": "code",
   "execution_count": 30,
   "metadata": {},
   "outputs": [],
   "source": [
    "mychild.assign_string_three('son of tilak raj')"
   ]
  },
  {
   "cell_type": "code",
   "execution_count": 31,
   "metadata": {},
   "outputs": [
    {
     "data": {
      "text/plain": [
       "'shivansh'"
      ]
     },
     "execution_count": 31,
     "metadata": {},
     "output_type": "execute_result"
    }
   ],
   "source": [
    "mychild.show_string_one()"
   ]
  },
  {
   "cell_type": "code",
   "execution_count": 32,
   "metadata": {},
   "outputs": [
    {
     "data": {
      "text/plain": [
       "'bhardwaj'"
      ]
     },
     "execution_count": 32,
     "metadata": {},
     "output_type": "execute_result"
    }
   ],
   "source": [
    "mychild.show_string_two()"
   ]
  },
  {
   "cell_type": "code",
   "execution_count": 33,
   "metadata": {},
   "outputs": [
    {
     "data": {
      "text/plain": [
       "'son of tilak raj'"
      ]
     },
     "execution_count": 33,
     "metadata": {},
     "output_type": "execute_result"
    }
   ],
   "source": [
    "mychild.show_string_three()"
   ]
  },
  {
   "cell_type": "markdown",
   "metadata": {},
   "source": [
    "# Multilevel inhertiance"
   ]
  },
  {
   "cell_type": "code",
   "execution_count": 35,
   "metadata": {},
   "outputs": [],
   "source": [
    "class Parentpapa():\n",
    "    def assign_name(self,name):\n",
    "        self.name=name\n",
    "    def show_name(self):\n",
    "        return self.name"
   ]
  },
  {
   "cell_type": "code",
   "execution_count": 36,
   "metadata": {},
   "outputs": [],
   "source": [
    "class Childbeta(Parentpapa):\n",
    "    def assign_age(self,age):\n",
    "        self.age=age\n",
    "    def show_age(self):\n",
    "        return self.age"
   ]
  },
  {
   "cell_type": "code",
   "execution_count": 37,
   "metadata": {},
   "outputs": [],
   "source": [
    "class Grandboy(Childbeta):\n",
    "    def assign_sex(self,sex):\n",
    "        self.sex=sex\n",
    "    def show_sex(self):\n",
    "        return self.sex"
   ]
  },
  {
   "cell_type": "code",
   "execution_count": 38,
   "metadata": {},
   "outputs": [],
   "source": [
    "ss=Grandboy()"
   ]
  },
  {
   "cell_type": "code",
   "execution_count": 39,
   "metadata": {},
   "outputs": [],
   "source": [
    "ss.assign_name('shivansh')"
   ]
  },
  {
   "cell_type": "code",
   "execution_count": 40,
   "metadata": {},
   "outputs": [
    {
     "data": {
      "text/plain": [
       "'shivansh'"
      ]
     },
     "execution_count": 40,
     "metadata": {},
     "output_type": "execute_result"
    }
   ],
   "source": [
    "ss.show_name()"
   ]
  },
  {
   "cell_type": "code",
   "execution_count": 41,
   "metadata": {},
   "outputs": [],
   "source": [
    "ss.assign_age(18)"
   ]
  },
  {
   "cell_type": "code",
   "execution_count": 42,
   "metadata": {},
   "outputs": [
    {
     "data": {
      "text/plain": [
       "18"
      ]
     },
     "execution_count": 42,
     "metadata": {},
     "output_type": "execute_result"
    }
   ],
   "source": [
    "ss.show_age()"
   ]
  },
  {
   "cell_type": "markdown",
   "metadata": {},
   "source": [
    "# OOPs(Python)"
   ]
  },
  {
   "cell_type": "code",
   "execution_count": 43,
   "metadata": {},
   "outputs": [],
   "source": [
    "class Dog:\n",
    "    atrr='mammal'  #class attribute\n",
    "    \n",
    "    def __init__(self,name):   # Instance attribite\n",
    "        self.name=name\n",
    "        \n",
    "    def speak(self):\n",
    "        print('my name is {}'.format(self.name))\n",
    "        "
   ]
  },
  {
   "cell_type": "code",
   "execution_count": 44,
   "metadata": {},
   "outputs": [],
   "source": [
    "sheffy=Dog('shivansh')     #object instantiation or declaring a object"
   ]
  },
  {
   "cell_type": "code",
   "execution_count": 45,
   "metadata": {},
   "outputs": [
    {
     "data": {
      "text/plain": [
       "'mammal'"
      ]
     },
     "execution_count": 45,
     "metadata": {},
     "output_type": "execute_result"
    }
   ],
   "source": [
    "sheffy.atrr  ## accessing class attribute"
   ]
  },
  {
   "cell_type": "code",
   "execution_count": 46,
   "metadata": {},
   "outputs": [
    {
     "data": {
      "text/plain": [
       "'shivansh'"
      ]
     },
     "execution_count": 46,
     "metadata": {},
     "output_type": "execute_result"
    }
   ],
   "source": [
    "sheffy.name  ##accessing instance attribute"
   ]
  },
  {
   "cell_type": "code",
   "execution_count": 47,
   "metadata": {},
   "outputs": [
    {
     "data": {
      "text/plain": [
       "'mammal'"
      ]
     },
     "execution_count": 47,
     "metadata": {},
     "output_type": "execute_result"
    }
   ],
   "source": [
    "sheffy.__class__.atrr  ##acessing class attributes"
   ]
  },
  {
   "cell_type": "code",
   "execution_count": 48,
   "metadata": {},
   "outputs": [
    {
     "name": "stdout",
     "output_type": "stream",
     "text": [
      "my name is shivansh\n"
     ]
    }
   ],
   "source": [
    "sheffy.speak()  #accessing class methods"
   ]
  },
  {
   "cell_type": "code",
   "execution_count": 49,
   "metadata": {},
   "outputs": [
    {
     "name": "stdout",
     "output_type": "stream",
     "text": [
      "brown\n"
     ]
    }
   ],
   "source": [
    "\n",
    "# Python3 program to show that we can create \n",
    "# instance variables inside methods\n",
    "    \n",
    "# Class for Dog\n",
    "class Dog:\n",
    "       \n",
    "    # Class Variable\n",
    "    animal = 'dog'     \n",
    "       \n",
    "    # The init method or constructor\n",
    "    def __init__(self, breed):\n",
    "           \n",
    "        # Instance Variable\n",
    "        self.breed = breed            \n",
    "   \n",
    "    # Adds an instance variable \n",
    "    def setColor(self, color):\n",
    "        self.color = color\n",
    "       \n",
    "    # Retrieves instance variable    \n",
    "    def getColor(self):    \n",
    "        return self.color   \n",
    "   \n",
    "# Driver Code\n",
    "Rodger = Dog(\"pug\")\n",
    "Rodger.setColor(\"brown\")\n",
    "print(Rodger.getColor()) "
   ]
  },
  {
   "cell_type": "markdown",
   "metadata": {},
   "source": [
    "# Inheritance\n"
   ]
  },
  {
   "cell_type": "code",
   "execution_count": 50,
   "metadata": {},
   "outputs": [],
   "source": [
    "## Base/Parent----> Child--->grandchild"
   ]
  },
  {
   "cell_type": "code",
   "execution_count": 56,
   "metadata": {},
   "outputs": [
    {
     "name": "stdout",
     "output_type": "stream",
     "text": [
      "Rahul\n",
      "886012\n",
      "My name is Rahul\n",
      "IdNumber: 886012\n",
      "Post: Intern\n"
     ]
    }
   ],
   "source": [
    "class Person(object):\n",
    "  \n",
    "    # __init__ is known as the constructor\n",
    "    def __init__(self, name, idnumber):\n",
    "        self.name = name\n",
    "        self.idnumber = idnumber\n",
    "  \n",
    "    def display(self):\n",
    "        print(self.name)\n",
    "        print(self.idnumber)\n",
    "          \n",
    "    def details(self):\n",
    "        print(\"My name is {}\".format(self.name))\n",
    "        print(\"IdNumber: {}\".format(self.idnumber))\n",
    "      \n",
    "# child class\n",
    "class Employee(Person):\n",
    "    def __init__(self, name, idnumber, salary, post):\n",
    "        self.salary = salary\n",
    "        self.post = post\n",
    "  \n",
    "        # invoking the __init__ of the parent class\n",
    "        Person.__init__(self, name, idnumber)\n",
    "          \n",
    "    def details(self):\n",
    "        print(\"My name is {}\".format(self.name))\n",
    "        print(\"IdNumber: {}\".format(self.idnumber))\n",
    "        print(\"Post: {}\".format(self.post))\n",
    "  \n",
    "  \n",
    "# creation of an object variable or an instance\n",
    "a = Employee('Rahul', 886012, 200000, \"Intern\")\n",
    "  \n",
    "# calling a function of the class Person using\n",
    "# its instance\n",
    "a.display()\n",
    "a.details()"
   ]
  },
  {
   "cell_type": "markdown",
   "metadata": {},
   "source": [
    "# Multiple Inheritance"
   ]
  },
  {
   "cell_type": "code",
   "execution_count": 57,
   "metadata": {},
   "outputs": [
    {
     "name": "stdout",
     "output_type": "stream",
     "text": [
      "Base1\n",
      "Base2\n",
      "Derived\n",
      "Geek1 Geek2\n"
     ]
    }
   ],
   "source": [
    "class Base1:\n",
    "    def __init__(self):\n",
    "        self.str1 = \"Geek1\"\n",
    "        print(\"Base1\")\n",
    "  \n",
    "class Base2(object):\n",
    "    def __init__(self):\n",
    "        self.str2 = \"Geek2\"        \n",
    "        print(\"Base2\")\n",
    "  \n",
    "class Derived(Base1, Base2):\n",
    "    def __init__(self):\n",
    "          \n",
    "        # Calling constructors of Base1\n",
    "        # and Base2 classes\n",
    "        Base1.__init__(self)\n",
    "        Base2.__init__(self)\n",
    "        print(\"Derived\")\n",
    "          \n",
    "    def printStrs(self):\n",
    "        print(self.str1, self.str2)\n",
    "         \n",
    "  \n",
    "ob = Derived()\n",
    "ob.printStrs()\n"
   ]
  },
  {
   "cell_type": "markdown",
   "metadata": {},
   "source": [
    "# Polymorphism"
   ]
  },
  {
   "cell_type": "code",
   "execution_count": 58,
   "metadata": {},
   "outputs": [],
   "source": [
    "#polymorphism means diffrent forms"
   ]
  },
  {
   "cell_type": "code",
   "execution_count": 59,
   "metadata": {},
   "outputs": [],
   "source": [
    "#in-built polymorphism\n",
    "#User defined Polymorphism"
   ]
  },
  {
   "cell_type": "code",
   "execution_count": 60,
   "metadata": {},
   "outputs": [
    {
     "name": "stdout",
     "output_type": "stream",
     "text": [
      "5\n",
      "14\n"
     ]
    }
   ],
   "source": [
    "def add(x,y,z=0):\n",
    "    return x+y+z                 \n",
    "print(add(2,3))\n",
    "print(add(5,5,4))"
   ]
  },
  {
   "cell_type": "code",
   "execution_count": 61,
   "metadata": {},
   "outputs": [],
   "source": [
    "##Polymorphism with inheritance"
   ]
  },
  {
   "cell_type": "code",
   "execution_count": 62,
   "metadata": {},
   "outputs": [],
   "source": [
    "class Bird:\n",
    "    def intro(self):\n",
    "        print(\"There are many types of birds\")\n",
    "        \n",
    "    def flight(self):\n",
    "        print('Some birds can fly')\n",
    "        \n",
    "        "
   ]
  },
  {
   "cell_type": "code",
   "execution_count": 63,
   "metadata": {},
   "outputs": [],
   "source": [
    "class Sparrow(Bird):\n",
    "    def flight(self):  ## re-implementing methods in child class is called Method Overriding\n",
    "        print('Sparrows can fly')\n",
    "    \n"
   ]
  },
  {
   "cell_type": "code",
   "execution_count": 64,
   "metadata": {},
   "outputs": [],
   "source": [
    "    \n",
    "class Ostrich(Bird):\n",
    "    def flight(self):\n",
    "        print('Ostrich can only walk and run')\n",
    "    "
   ]
  },
  {
   "cell_type": "code",
   "execution_count": 65,
   "metadata": {},
   "outputs": [],
   "source": [
    "obb=Bird()\n",
    "ojj=Sparrow()\n",
    "oss=Ostrich()"
   ]
  },
  {
   "cell_type": "code",
   "execution_count": 66,
   "metadata": {},
   "outputs": [
    {
     "name": "stdout",
     "output_type": "stream",
     "text": [
      "There are many types of birds\n"
     ]
    }
   ],
   "source": [
    "obb.intro()"
   ]
  },
  {
   "cell_type": "code",
   "execution_count": 67,
   "metadata": {},
   "outputs": [
    {
     "name": "stdout",
     "output_type": "stream",
     "text": [
      "Some birds can fly\n"
     ]
    }
   ],
   "source": [
    "obb.flight()"
   ]
  },
  {
   "cell_type": "code",
   "execution_count": 68,
   "metadata": {},
   "outputs": [
    {
     "name": "stdout",
     "output_type": "stream",
     "text": [
      "Ostrich can only walk and run\n"
     ]
    }
   ],
   "source": [
    "oss.flight()"
   ]
  },
  {
   "cell_type": "code",
   "execution_count": 69,
   "metadata": {},
   "outputs": [
    {
     "name": "stdout",
     "output_type": "stream",
     "text": [
      "Sparrows can fly\n"
     ]
    }
   ],
   "source": [
    "ojj.flight()"
   ]
  },
  {
   "cell_type": "code",
   "execution_count": 70,
   "metadata": {},
   "outputs": [
    {
     "name": "stdout",
     "output_type": "stream",
     "text": [
      "There are many types of birds\n"
     ]
    }
   ],
   "source": [
    "oss.intro()"
   ]
  },
  {
   "cell_type": "code",
   "execution_count": 71,
   "metadata": {},
   "outputs": [],
   "source": [
    "##Polymorphism with class methods"
   ]
  },
  {
   "cell_type": "code",
   "execution_count": 72,
   "metadata": {},
   "outputs": [
    {
     "name": "stdout",
     "output_type": "stream",
     "text": [
      "New Delhi is the capital of India.\n",
      "Hindi is the most widely spoken language of India.\n",
      "India is a developing country.\n",
      "Washington, D.C. is the capital of USA.\n",
      "English is the primary language of USA.\n",
      "USA is a developed country.\n"
     ]
    }
   ],
   "source": [
    "\n",
    "class India():\n",
    "    def capital(self):\n",
    "        print(\"New Delhi is the capital of India.\")\n",
    " \n",
    "    def language(self):\n",
    "        print(\"Hindi is the most widely spoken language of India.\")\n",
    " \n",
    "    def type(self):\n",
    "        print(\"India is a developing country.\")\n",
    " \n",
    "class USA():\n",
    "    def capital(self):\n",
    "        print(\"Washington, D.C. is the capital of USA.\")\n",
    " \n",
    "    def language(self):\n",
    "        print(\"English is the primary language of USA.\")\n",
    " \n",
    "    def type(self):\n",
    "        print(\"USA is a developed country.\")\n",
    " \n",
    "obj_ind = India()\n",
    "obj_usa = USA()\n",
    "for country in (obj_ind, obj_usa):\n",
    "    country.capital()\n",
    "    country.language()\n",
    "    country.type()"
   ]
  },
  {
   "cell_type": "code",
   "execution_count": 73,
   "metadata": {},
   "outputs": [],
   "source": [
    "##Polymorphism with function and objects"
   ]
  },
  {
   "cell_type": "code",
   "execution_count": 74,
   "metadata": {},
   "outputs": [
    {
     "name": "stdout",
     "output_type": "stream",
     "text": [
      "New Delhi is the capital of India.\n",
      "Hindi is the most widely spoken language of India.\n",
      "India is a developing country.\n",
      "Washington, D.C. is the capital of USA.\n",
      "English is the primary language of USA.\n",
      "USA is a developed country.\n"
     ]
    }
   ],
   "source": [
    "\n",
    "def func(obj):\n",
    "    obj.capital()\n",
    "    obj.language()\n",
    "    obj.type()\n",
    "  \n",
    "obj_ind = India()\n",
    "obj_usa = USA()\n",
    "  \n",
    "func(obj_ind)\n",
    "func(obj_usa)"
   ]
  },
  {
   "cell_type": "markdown",
   "metadata": {},
   "source": [
    "# Encapsulation"
   ]
  },
  {
   "cell_type": "code",
   "execution_count": 75,
   "metadata": {},
   "outputs": [],
   "source": [
    "class Tilak:\n",
    "    def __init__(self):\n",
    "        ##Protected  Member\n",
    "        self._a=26"
   ]
  },
  {
   "cell_type": "code",
   "execution_count": 76,
   "metadata": {},
   "outputs": [],
   "source": [
    "class Golu(Tilak):\n",
    "    def __init__(self):\n",
    "        Tilak.__init__(self)\n",
    "        print('Value of the variable is ')\n",
    "        print(self._a)\n",
    "            "
   ]
  },
  {
   "cell_type": "code",
   "execution_count": 77,
   "metadata": {},
   "outputs": [
    {
     "name": "stdout",
     "output_type": "stream",
     "text": [
      "26\n"
     ]
    }
   ],
   "source": [
    "ss=Tilak()\n",
    "print(ss._a)"
   ]
  },
  {
   "cell_type": "code",
   "execution_count": 78,
   "metadata": {},
   "outputs": [
    {
     "name": "stdout",
     "output_type": "stream",
     "text": [
      "Value of the variable is \n",
      "26\n",
      "26\n"
     ]
    }
   ],
   "source": [
    "gg=Golu()\n",
    "print(gg._a)"
   ]
  },
  {
   "cell_type": "code",
   "execution_count": 79,
   "metadata": {},
   "outputs": [
    {
     "name": "stdout",
     "output_type": "stream",
     "text": [
      "Calling protected member of base class: \n",
      "2\n"
     ]
    }
   ],
   "source": [
    "\n",
    "# Python program to\n",
    "# demonstrate protected members\n",
    " \n",
    " \n",
    "# Creating a base class\n",
    "class Base:\n",
    "    def __init__(self):\n",
    "         \n",
    "        # Protected member\n",
    "        self._a = 2\n",
    " \n",
    "# Creating a derived class   \n",
    "class Derived(Base):\n",
    "    def __init__(self):\n",
    "         \n",
    "        # Calling constructor of\n",
    "        # Base class\n",
    "        Base.__init__(self)\n",
    "        print(\"Calling protected member of base class: \")\n",
    "        print(self._a)\n",
    " \n",
    "obj1 = Base()\n",
    "         \n",
    "obj2 = Derived()\n",
    " \n",
    "# Calling protected member\n",
    "# Outside class will  result in\n",
    "# AttributeError\n"
   ]
  },
  {
   "cell_type": "code",
   "execution_count": 80,
   "metadata": {},
   "outputs": [
    {
     "ename": "AttributeError",
     "evalue": "'Base' object has no attribute 'a'",
     "output_type": "error",
     "traceback": [
      "\u001b[1;31m---------------------------------------------------------------------------\u001b[0m",
      "\u001b[1;31mAttributeError\u001b[0m                            Traceback (most recent call last)",
      "\u001b[1;32m<ipython-input-80-29a8e3d5c6e8>\u001b[0m in \u001b[0;36m<module>\u001b[1;34m\u001b[0m\n\u001b[1;32m----> 1\u001b[1;33m \u001b[0mobj1\u001b[0m\u001b[1;33m.\u001b[0m\u001b[0ma\u001b[0m\u001b[1;33m\u001b[0m\u001b[1;33m\u001b[0m\u001b[0m\n\u001b[0m",
      "\u001b[1;31mAttributeError\u001b[0m: 'Base' object has no attribute 'a'"
     ]
    }
   ],
   "source": [
    "obj1.a"
   ]
  },
  {
   "cell_type": "code",
   "execution_count": 81,
   "metadata": {},
   "outputs": [],
   "source": [
    "#Encapsulation"
   ]
  },
  {
   "cell_type": "code",
   "execution_count": 82,
   "metadata": {},
   "outputs": [],
   "source": [
    "##Private method"
   ]
  },
  {
   "cell_type": "code",
   "execution_count": 83,
   "metadata": {},
   "outputs": [],
   "source": [
    "class car:\n",
    "    def __init__(self):\n",
    "        self.__updatesoftware()    #private method\n",
    "    def drive(self):\n",
    "        print('drivng')\n",
    "    def __updatesoftware(self):\n",
    "        print('updating')"
   ]
  },
  {
   "cell_type": "code",
   "execution_count": 84,
   "metadata": {},
   "outputs": [
    {
     "name": "stdout",
     "output_type": "stream",
     "text": [
      "updating\n",
      "drivng\n"
     ]
    }
   ],
   "source": [
    "blackcar=car()\n",
    "blackcar.drive()"
   ]
  },
  {
   "cell_type": "code",
   "execution_count": 85,
   "metadata": {},
   "outputs": [
    {
     "ename": "AttributeError",
     "evalue": "'car' object has no attribute '__updatesoftware'",
     "output_type": "error",
     "traceback": [
      "\u001b[1;31m---------------------------------------------------------------------------\u001b[0m",
      "\u001b[1;31mAttributeError\u001b[0m                            Traceback (most recent call last)",
      "\u001b[1;32m<ipython-input-85-d3caafe99a14>\u001b[0m in \u001b[0;36m<module>\u001b[1;34m\u001b[0m\n\u001b[1;32m----> 1\u001b[1;33m \u001b[0mblackcar\u001b[0m\u001b[1;33m.\u001b[0m\u001b[0m__updatesoftware\u001b[0m\u001b[1;33m(\u001b[0m\u001b[1;33m)\u001b[0m   \u001b[1;31m##Because of private method\u001b[0m\u001b[1;33m\u001b[0m\u001b[1;33m\u001b[0m\u001b[0m\n\u001b[0m\u001b[0;32m      2\u001b[0m                                \u001b[1;31m##We can't access private method out of class\u001b[0m\u001b[1;33m\u001b[0m\u001b[1;33m\u001b[0m\u001b[1;33m\u001b[0m\u001b[0m\n",
      "\u001b[1;31mAttributeError\u001b[0m: 'car' object has no attribute '__updatesoftware'"
     ]
    }
   ],
   "source": [
    "blackcar.__updatesoftware()   ##Because of private method\n",
    "                               ##We can't access private method out of class"
   ]
  },
  {
   "cell_type": "code",
   "execution_count": 86,
   "metadata": {},
   "outputs": [],
   "source": [
    "class car:\n",
    "    __maxspeed=0    #Private variable\n",
    "    __name=\"\"\n",
    "    \n",
    "    def __init__(self):\n",
    "        self.__maxspeed=200\n",
    "        self.__name=\"shivansh\"\n",
    "    def drive(self):\n",
    "        print(\"driving\")\n",
    "        print(self.__maxspeed)\n",
    "    def setspeed(self,speed):                          \n",
    "     self.__maxspeed=speed\n",
    "     print(self.__maxspeed)\n",
    "                          "
   ]
  },
  {
   "cell_type": "code",
   "execution_count": 87,
   "metadata": {},
   "outputs": [],
   "source": [
    "whitecar=car()"
   ]
  },
  {
   "cell_type": "code",
   "execution_count": 88,
   "metadata": {},
   "outputs": [
    {
     "name": "stdout",
     "output_type": "stream",
     "text": [
      "driving\n",
      "200\n"
     ]
    }
   ],
   "source": [
    "whitecar.drive()"
   ]
  },
  {
   "cell_type": "code",
   "execution_count": 89,
   "metadata": {},
   "outputs": [
    {
     "name": "stdout",
     "output_type": "stream",
     "text": [
      "500\n"
     ]
    }
   ],
   "source": [
    "whitecar.setspeed(500)"
   ]
  },
  {
   "cell_type": "code",
   "execution_count": 90,
   "metadata": {},
   "outputs": [
    {
     "name": "stdout",
     "output_type": "stream",
     "text": [
      "driving\n",
      "500\n"
     ]
    }
   ],
   "source": [
    "whitecar.__maxspeed=646  ##we can't change the private variable outside class\n",
    "whitecar.drive()\n"
   ]
  },
  {
   "cell_type": "code",
   "execution_count": null,
   "metadata": {},
   "outputs": [],
   "source": []
  },
  {
   "cell_type": "code",
   "execution_count": null,
   "metadata": {},
   "outputs": [],
   "source": []
  },
  {
   "cell_type": "code",
   "execution_count": null,
   "metadata": {},
   "outputs": [],
   "source": []
  },
  {
   "cell_type": "code",
   "execution_count": null,
   "metadata": {},
   "outputs": [],
   "source": [
    "_"
   ]
  },
  {
   "cell_type": "code",
   "execution_count": null,
   "metadata": {},
   "outputs": [],
   "source": []
  },
  {
   "cell_type": "code",
   "execution_count": null,
   "metadata": {},
   "outputs": [],
   "source": []
  },
  {
   "cell_type": "code",
   "execution_count": null,
   "metadata": {},
   "outputs": [],
   "source": []
  },
  {
   "cell_type": "code",
   "execution_count": null,
   "metadata": {},
   "outputs": [],
   "source": []
  },
  {
   "cell_type": "code",
   "execution_count": null,
   "metadata": {},
   "outputs": [],
   "source": []
  },
  {
   "cell_type": "code",
   "execution_count": null,
   "metadata": {},
   "outputs": [],
   "source": []
  },
  {
   "cell_type": "code",
   "execution_count": null,
   "metadata": {},
   "outputs": [],
   "source": []
  },
  {
   "cell_type": "code",
   "execution_count": null,
   "metadata": {},
   "outputs": [],
   "source": []
  },
  {
   "cell_type": "code",
   "execution_count": null,
   "metadata": {},
   "outputs": [],
   "source": []
  },
  {
   "cell_type": "code",
   "execution_count": null,
   "metadata": {},
   "outputs": [],
   "source": []
  },
  {
   "cell_type": "code",
   "execution_count": null,
   "metadata": {},
   "outputs": [],
   "source": []
  },
  {
   "cell_type": "code",
   "execution_count": null,
   "metadata": {},
   "outputs": [],
   "source": []
  },
  {
   "cell_type": "code",
   "execution_count": null,
   "metadata": {},
   "outputs": [],
   "source": []
  },
  {
   "cell_type": "code",
   "execution_count": null,
   "metadata": {},
   "outputs": [],
   "source": []
  },
  {
   "cell_type": "code",
   "execution_count": null,
   "metadata": {},
   "outputs": [],
   "source": []
  },
  {
   "cell_type": "code",
   "execution_count": null,
   "metadata": {},
   "outputs": [],
   "source": []
  },
  {
   "cell_type": "code",
   "execution_count": null,
   "metadata": {},
   "outputs": [],
   "source": []
  },
  {
   "cell_type": "code",
   "execution_count": null,
   "metadata": {},
   "outputs": [],
   "source": []
  },
  {
   "cell_type": "code",
   "execution_count": null,
   "metadata": {},
   "outputs": [],
   "source": []
  },
  {
   "cell_type": "code",
   "execution_count": null,
   "metadata": {},
   "outputs": [],
   "source": []
  },
  {
   "cell_type": "code",
   "execution_count": null,
   "metadata": {},
   "outputs": [],
   "source": []
  },
  {
   "cell_type": "code",
   "execution_count": null,
   "metadata": {},
   "outputs": [],
   "source": []
  },
  {
   "cell_type": "code",
   "execution_count": null,
   "metadata": {},
   "outputs": [],
   "source": []
  },
  {
   "cell_type": "code",
   "execution_count": null,
   "metadata": {},
   "outputs": [],
   "source": []
  },
  {
   "cell_type": "code",
   "execution_count": null,
   "metadata": {},
   "outputs": [],
   "source": []
  },
  {
   "cell_type": "code",
   "execution_count": null,
   "metadata": {},
   "outputs": [],
   "source": []
  },
  {
   "cell_type": "code",
   "execution_count": null,
   "metadata": {},
   "outputs": [],
   "source": []
  },
  {
   "cell_type": "code",
   "execution_count": null,
   "metadata": {},
   "outputs": [],
   "source": []
  },
  {
   "cell_type": "code",
   "execution_count": null,
   "metadata": {},
   "outputs": [],
   "source": []
  },
  {
   "cell_type": "code",
   "execution_count": null,
   "metadata": {},
   "outputs": [],
   "source": []
  },
  {
   "cell_type": "code",
   "execution_count": null,
   "metadata": {},
   "outputs": [],
   "source": []
  },
  {
   "cell_type": "code",
   "execution_count": null,
   "metadata": {},
   "outputs": [],
   "source": []
  },
  {
   "cell_type": "code",
   "execution_count": null,
   "metadata": {},
   "outputs": [],
   "source": []
  },
  {
   "cell_type": "code",
   "execution_count": null,
   "metadata": {},
   "outputs": [],
   "source": []
  },
  {
   "cell_type": "code",
   "execution_count": null,
   "metadata": {},
   "outputs": [],
   "source": []
  },
  {
   "cell_type": "code",
   "execution_count": null,
   "metadata": {},
   "outputs": [],
   "source": []
  },
  {
   "cell_type": "code",
   "execution_count": null,
   "metadata": {},
   "outputs": [],
   "source": []
  },
  {
   "cell_type": "code",
   "execution_count": null,
   "metadata": {},
   "outputs": [],
   "source": []
  }
 ],
 "metadata": {
  "kernelspec": {
   "display_name": "Python 3",
   "language": "python",
   "name": "python3"
  },
  "language_info": {
   "codemirror_mode": {
    "name": "ipython",
    "version": 3
   },
   "file_extension": ".py",
   "mimetype": "text/x-python",
   "name": "python",
   "nbconvert_exporter": "python",
   "pygments_lexer": "ipython3",
   "version": "3.7.6"
  }
 },
 "nbformat": 4,
 "nbformat_minor": 4
}
